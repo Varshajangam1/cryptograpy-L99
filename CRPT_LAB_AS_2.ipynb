{
  "nbformat": 4,
  "nbformat_minor": 0,
  "metadata": {
    "colab": {
      "provenance": [],
      "authorship_tag": "ABX9TyPlyYlyfZ0eK8bUNofTRbFG",
      "include_colab_link": true
    },
    "kernelspec": {
      "name": "python3",
      "display_name": "Python 3"
    },
    "language_info": {
      "name": "python"
    }
  },
  "cells": [
    {
      "cell_type": "markdown",
      "metadata": {
        "id": "view-in-github",
        "colab_type": "text"
      },
      "source": [
        "<a href=\"https://colab.research.google.com/github/Varshajangam1/cryptograpy-L99/blob/main/CRPT_LAB_AS_2.ipynb\" target=\"_parent\"><img src=\"https://colab.research.google.com/assets/colab-badge.svg\" alt=\"Open In Colab\"/></a>"
      ]
    },
    {
      "cell_type": "code",
      "execution_count": 1,
      "metadata": {
        "colab": {
          "base_uri": "https://localhost:8080/"
        },
        "id": "ygDz4IaRpMIG",
        "outputId": "2b0f8d96-b565-496d-81e3-b588a6a819a0"
      },
      "outputs": [
        {
          "output_type": "stream",
          "name": "stdout",
          "text": [
            "Encrypted: YDUVKD, FVH\n",
            "Decrypted: VARSHA, CSE\n"
          ]
        }
      ],
      "source": [
        "def caesar_cipher_encrypt(text, shift):\n",
        "    encrypted_text = \"\"\n",
        "    for char in text:\n",
        "        if char.isalpha():\n",
        "            shift_base = ord('A') if char.isupper() else ord('a')\n",
        "            encrypted_text += chr((ord(char) - shift_base + shift) % 26 + shift_base)\n",
        "        else:\n",
        "            encrypted_text += char\n",
        "    return encrypted_text\n",
        "\n",
        "def caesar_cipher_decrypt(text, shift):\n",
        "    return caesar_cipher_encrypt(text, -shift)\n",
        "\n",
        "if __name__ == \"__main__\":\n",
        "    plaintext = \"VARSHA, CSE\"\n",
        "    shift = 3\n",
        "    encrypted = caesar_cipher_encrypt(plaintext, shift)\n",
        "    print(\"Encrypted:\", encrypted)\n",
        "    decrypted = caesar_cipher_decrypt(encrypted, shift)\n",
        "    print(\"Decrypted:\", decrypted)"
      ]
    }
  ]
}